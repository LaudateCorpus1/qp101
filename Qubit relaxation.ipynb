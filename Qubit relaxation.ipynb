{
 "cells": [
  {
   "cell_type": "markdown",
   "metadata": {},
   "source": [
    "# Qubit relaxation"
   ]
  },
  {
   "cell_type": "markdown",
   "metadata": {},
   "source": [
    "Qubits decay with time. Let's run a program that measures the qubit relaxation time, also named T1."
   ]
  },
  {
   "cell_type": "code",
   "execution_count": null,
   "metadata": {},
   "outputs": [],
   "source": [
    "from pyquil.gates import X, I, MEASURE\n",
    "from pyquil.quil import Program\n",
    "from pyquil.api import QVMConnection, QPUConnection"
   ]
  },
  {
   "cell_type": "markdown",
   "metadata": {},
   "source": [
    "We're going to create a list of programs, each elongated with a number of identity (I) gates."
   ]
  },
  {
   "cell_type": "code",
   "execution_count": null,
   "metadata": {},
   "outputs": [],
   "source": [
    "import numpy as np\n",
    "\n",
    "qubits = [0] # Which qubit(s) to measure.\n",
    "start_time = 0.5 # Start time in microseconds.\n",
    "max_delay = 45. # Stop time in microseconds.\n",
    "num_pts = 18 # Number of data points.\n",
    "wait_time = 1 # Each identity gate waits for 1us on the QVM.\n",
    "\n",
    "delays = np.linspace(start_time, max_delay, num_pts)\n",
    "progs = []\n",
    "\n",
    "for delay in delays:\n",
    "    p = Program()\n",
    "    p.inst([X(qq) for qq in qubits])\n",
    "    num_ids = int(round(delay / wait_time, 0))\n",
    "    for i in range(num_ids):\n",
    "        p.inst([I(qq) for qq in qubits])\n",
    "    progs.append(p)"
   ]
  },
  {
   "cell_type": "markdown",
   "metadata": {},
   "source": [
    "### Run on the QVM with noise simulation"
   ]
  },
  {
   "cell_type": "markdown",
   "metadata": {},
   "source": [
    "Our QVM, or quantum virtual machine, can simulate noise. For this, run the `batch_run_noisy_qvm` function that is added in this repository."
   ]
  },
  {
   "cell_type": "code",
   "execution_count": null,
   "metadata": {},
   "outputs": [],
   "source": [
    "from noisy_qvm import batch_run_noisy_qvm"
   ]
  },
  {
   "cell_type": "markdown",
   "metadata": {},
   "source": [
    "Connect to the QVM and run the programs."
   ]
  },
  {
   "cell_type": "code",
   "execution_count": null,
   "metadata": {},
   "outputs": [],
   "source": [
    "qvm = QVMConnection()"
   ]
  },
  {
   "cell_type": "markdown",
   "metadata": {},
   "source": [
    "You can play with the damping to change the relaxation time of the virtual qubit."
   ]
  },
  {
   "cell_type": "code",
   "execution_count": null,
   "metadata": {},
   "outputs": [],
   "source": [
    "data = np.array(batch_run_noisy_qvm(progs, qvm, trials=500, damping=0.05))"
   ]
  },
  {
   "cell_type": "markdown",
   "metadata": {},
   "source": [
    "Plot the data!"
   ]
  },
  {
   "cell_type": "code",
   "execution_count": null,
   "metadata": {},
   "outputs": [],
   "source": [
    "for q in qubits:\n",
    "    %pylab inline\n",
    "    x = delays\n",
    "    y = data.mean(axis=1).T[q]\n",
    "    yerr = data.var(axis=1)\n",
    "    \n",
    "    plt.figure()\n",
    "    plt.plot(x, y, '-o')\n",
    "    plt.xlabel(\"t (us)\")\n",
    "    plt.ylabel(\"Qubit state\")"
   ]
  },
  {
   "cell_type": "markdown",
   "metadata": {},
   "source": [
    "We can fit this data to an exponential decay model.\n",
    "For this we can use the lmfit library."
   ]
  },
  {
   "cell_type": "code",
   "execution_count": null,
   "metadata": {},
   "outputs": [],
   "source": [
    "from lmfit.model import Model\n",
    "\n",
    "def ir_func(x, amplitude, baseline, t1):\n",
    "    return baseline + amplitude * exp(-x / t1)\n",
    "\n",
    "a_guess=1\n",
    "b_guess=0\n",
    "t1_guess = 15\n",
    "\n",
    "ir_model = Model(ir_func)\n",
    "fit = ir_model.fit(y.T, x=x, amplitude=a_guess, baseline=b_guess, t1=t1_guess)\n",
    "fit.plot()\n",
    "plt.xlabel(\"t (us)\")\n",
    "plt.ylabel(\"Qubit state\")\n",
    "\n",
    "fit.params[\"t1\"].value"
   ]
  },
  {
   "cell_type": "markdown",
   "metadata": {},
   "source": [
    "### Run on the QPU"
   ]
  },
  {
   "cell_type": "markdown",
   "metadata": {},
   "source": [
    "If you have received QPU access, you can run this measurement on the QPU! For that, we need to connect to the QPU first."
   ]
  },
  {
   "cell_type": "code",
   "execution_count": null,
   "metadata": {},
   "outputs": [],
   "source": [
    "qpu = QPUConnection(\"8Q-Agave\")"
   ]
  },
  {
   "cell_type": "markdown",
   "metadata": {},
   "source": [
    "Now, create the programs. You can do this for one or more qubits."
   ]
  },
  {
   "cell_type": "code",
   "execution_count": null,
   "metadata": {},
   "outputs": [],
   "source": [
    "import numpy as np\n",
    "\n",
    "qubits = [0] # Which qubit(s) to measure.\n",
    "start_time = 0.5 # Start time in microseconds.\n",
    "max_delay = 20. # Stop time in microseconds.\n",
    "num_pts = 18 # Number of data points.\n",
    "wait_time = 50e-3 # Each identity gate waits for 50 nanoseconds on the QPU.\n",
    "\n",
    "delays = np.linspace(start_time, max_delay, num_pts)\n",
    "progs = []\n",
    "\n",
    "for delay in delays:\n",
    "    p = Program()\n",
    "    p.inst([X(qq) for qq in qubits])\n",
    "    num_ids = int(round(delay / wait_time, 0))\n",
    "    for i in range(num_ids):\n",
    "        p.inst([I(qq) for qq in qubits])\n",
    "    progs.append(p)"
   ]
  },
  {
   "cell_type": "markdown",
   "metadata": {},
   "source": [
    "Run the programs and gather the data."
   ]
  },
  {
   "cell_type": "code",
   "execution_count": null,
   "metadata": {},
   "outputs": [],
   "source": [
    "data = []\n",
    "\n",
    "for program in progs:\n",
    "    data.append(qpu.run_and_measure(program, qubits, trials=500, needs_compilation=False))\n",
    "    \n",
    "data = np.array(data)"
   ]
  },
  {
   "cell_type": "markdown",
   "metadata": {},
   "source": [
    "Plot the data."
   ]
  },
  {
   "cell_type": "code",
   "execution_count": null,
   "metadata": {
    "scrolled": false
   },
   "outputs": [],
   "source": [
    "for q in qubits:\n",
    "    x = delays\n",
    "    y = data.mean(axis=1).T[qubits.index(q)]\n",
    "\n",
    "    ir_model = Model(ir_func)\n",
    "    fit = ir_model.fit(y, x=x, amplitude=a_guess, baseline=b_guess, t1=t1_guess)\n",
    "    t1 = fit.params[\"t1\"].value\n",
    "\n",
    "    fit.plot()\n",
    "    plt.xlabel(\"t (us)\")\n",
    "    plt.ylabel(\"Qubit state\")\n",
    "    plt.title(f\"Qubit {q}, T1 = {np.round(t1, 2)}\")"
   ]
  },
  {
   "cell_type": "code",
   "execution_count": null,
   "metadata": {},
   "outputs": [],
   "source": []
  }
 ],
 "metadata": {
  "kernelspec": {
   "display_name": "Python 3",
   "language": "python",
   "name": "python3"
  },
  "language_info": {
   "codemirror_mode": {
    "name": "ipython",
    "version": 3
   },
   "file_extension": ".py",
   "mimetype": "text/x-python",
   "name": "python",
   "nbconvert_exporter": "python",
   "pygments_lexer": "ipython3",
   "version": "3.6.3"
  }
 },
 "nbformat": 4,
 "nbformat_minor": 2
}
