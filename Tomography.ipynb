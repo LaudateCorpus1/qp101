{
 "cells": [
  {
   "cell_type": "code",
   "execution_count": null,
   "metadata": {},
   "outputs": [],
   "source": [
    "from grove.tomography.state_tomography import do_state_tomography\n",
    "from pyquil.quil import Program\n",
    "from pyquil.gates import H, CZ\n",
    "from pyquil.api import QPUConnection, get_devices, QVMConnection\n",
    "%matplotlib inline\n",
    "\n",
    "program = Program()\n",
    "program += H(0)\n",
    "program += H(1)\n",
    "program += CZ(0, 1)\n",
    "program += H(1)\n",
    "\n",
    "qvm = QVMConnection()\n",
    "tomo, _, _ = do_state_tomography(program, nsamples=2000, cxn=qvm)\n",
    "tomo.plot()"
   ]
  },
  {
   "cell_type": "code",
   "execution_count": null,
   "metadata": {},
   "outputs": [],
   "source": []
  }
 ],
 "metadata": {
  "kernelspec": {
   "display_name": "Python 3",
   "language": "python",
   "name": "python3"
  },
  "language_info": {
   "codemirror_mode": {
    "name": "ipython",
    "version": 3
   },
   "file_extension": ".py",
   "mimetype": "text/x-python",
   "name": "python",
   "nbconvert_exporter": "python",
   "pygments_lexer": "ipython3",
   "version": "3.6.3"
  }
 },
 "nbformat": 4,
 "nbformat_minor": 2
}
